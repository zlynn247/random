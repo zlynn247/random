{
 "cells": [
  {
   "cell_type": "markdown",
   "metadata": {},
   "source": [
    "$T^{+}$: Test Positive\n",
    "\n",
    "$D^{+}$: Disease Positive\n",
    "\n",
    "$P(D^{+}|T^{-})= \\dfrac{P(D^{+}\\:\\cap\\:T^{-})}{P(T^{-})}$\n",
    "\n",
    "$=\\dfrac{P(D^{+})*P(T^{-}|D^{+})}{P(T^{-})}$\n",
    "\n",
    "$=\\dfrac{P(D^{+})*P(T^{-}|D^{+})}{P(T^{-}\\cap\\:D^{-})+P(T^{-}\\cap D^{+})}$\n",
    "\n",
    "$=\\dfrac{P(D^{+})*P(T^{-}|D^{+})}{P(D^{-})*P(T^{-}|D^{-})+P(D^{+})*P(T^{-}|D^{+})}$"
   ]
  },
  {
   "cell_type": "markdown",
   "metadata": {},
   "source": [
    "$=\\dfrac{prevalence*(1-sensitivity)}{(1-prevalence)*specificity+prevalence*(1-sensitivity)}$"
   ]
  },
  {
   "cell_type": "code",
   "execution_count": 8,
   "metadata": {},
   "outputs": [
    {
     "data": {
      "text/plain": [
       "0.052631578947368404"
      ]
     },
     "execution_count": 8,
     "metadata": {},
     "output_type": "execute_result"
    }
   ],
   "source": [
    "prevalence=0.2\n",
    "sensitivity=0.8\n",
    "specificity=0.9\n",
    "\n",
    "prevalence*(1-sensitivity)/((1-prevalence)*specificity+prevalence*(1-sensitivity))"
   ]
  }
 ],
 "metadata": {
  "kernelspec": {
   "display_name": "Python 2",
   "language": "python",
   "name": "python2"
  },
  "language_info": {
   "codemirror_mode": {
    "name": "ipython",
    "version": 2
   },
   "file_extension": ".py",
   "mimetype": "text/x-python",
   "name": "python",
   "nbconvert_exporter": "python",
   "pygments_lexer": "ipython2",
   "version": "2.7.17"
  }
 },
 "nbformat": 4,
 "nbformat_minor": 2
}
